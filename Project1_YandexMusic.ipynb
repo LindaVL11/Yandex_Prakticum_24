{
 "cells": [
  {
   "cell_type": "markdown",
   "metadata": {
    "deletable": false,
    "editable": false,
    "id": "E0vqbgi9ay0H"
   },
   "source": [
    "# Яндекс Музыка"
   ]
  },
  {
   "cell_type": "markdown",
   "metadata": {
    "deletable": false,
    "editable": false,
    "id": "VUC88oWjTJw2"
   },
   "source": [
    "Сравнение Москвы и Петербурга окружено мифами. Например:\n",
    " * Москва — мегаполис, подчинённый жёсткому ритму рабочей недели;\n",
    " * Петербург — культурная столица, со своими вкусами.\n",
    "\n",
    "На данных Яндекс Музыки вы сравните поведение пользователей двух столиц.\n",
    "\n",
    "**Цель исследования** — проверьте три гипотезы:\n",
    "1. Активность пользователей зависит от дня недели. Причём в Москве и Петербурге это проявляется по-разному.\n",
    "2. В понедельник утром в Москве преобладают одни жанры, а в Петербурге — другие. Так же и вечером пятницы преобладают разные жанры — в зависимости от города.\n",
    "3. Москва и Петербург предпочитают разные жанры музыки. В Москве чаще слушают поп-музыку, в Петербурге — русский рэп.\n",
    "\n",
    "**Ход исследования**\n",
    "\n",
    "Данные о поведении пользователей вы получите из файла `yandex_music_project.csv`. О качестве данных ничего не известно. Поэтому перед проверкой гипотез понадобится обзор данных.\n",
    "\n",
    "Вы проверите данные на ошибки и оцените их влияние на исследование. Затем, на этапе предобработки вы поищете возможность исправить самые критичные ошибки данных.\n",
    "\n",
    "Таким образом, исследование пройдёт в три этапа:\n",
    " 1. Обзор данных.\n",
    " 2. Предобработка данных.\n",
    " 3. Проверка гипотез.\n",
    "\n"
   ]
  },
  {
   "cell_type": "markdown",
   "metadata": {
    "deletable": false,
    "editable": false,
    "id": "Ml1hmfXC_Zcs"
   },
   "source": [
    "## Обзор данных\n",
    "\n",
    "Составьте первое представление о данных Яндекс Музыки.\n",
    "\n",
    "\n"
   ]
  },
  {
   "cell_type": "markdown",
   "metadata": {
    "deletable": false,
    "editable": false,
    "id": "57eAOGIz_Zcs",
    "tags": [
     "start_task"
    ]
   },
   "source": [
    "**Задание 1**"
   ]
  },
  {
   "cell_type": "code",
   "execution_count": 1,
   "metadata": {
    "deletable": false,
    "id": "AXN7PHPN_Zcs"
   },
   "outputs": [],
   "source": [
    "import pandas as pd # импорт библиотеки pandas"
   ]
  },
  {
   "cell_type": "markdown",
   "metadata": {
    "deletable": false,
    "editable": false,
    "id": "SG23P8tt_Zcs",
    "tags": [
     "start_task"
    ]
   },
   "source": [
    "**Задание 2**"
   ]
  },
  {
   "cell_type": "code",
   "execution_count": 2,
   "metadata": {
    "deletable": false,
    "id": "fFVu7vqh_Zct"
   },
   "outputs": [],
   "source": [
    "df = pd.read_csv('/datasets/yandex_music_project.csv') # чтение файла с данными и сохранение в df"
   ]
  },
  {
   "cell_type": "markdown",
   "metadata": {
    "deletable": false,
    "editable": false,
    "id": "rDoOMd3uTqnZ",
    "tags": [
     "start_task"
    ]
   },
   "source": [
    "**Задание 3**"
   ]
  },
  {
   "cell_type": "code",
   "execution_count": 3,
   "metadata": {
    "deletable": false,
    "id": "oWTVX3gW_Zct"
   },
   "outputs": [
    {
     "data": {
      "text/html": [
       "<div>\n",
       "<style scoped>\n",
       "    .dataframe tbody tr th:only-of-type {\n",
       "        vertical-align: middle;\n",
       "    }\n",
       "\n",
       "    .dataframe tbody tr th {\n",
       "        vertical-align: top;\n",
       "    }\n",
       "\n",
       "    .dataframe thead th {\n",
       "        text-align: right;\n",
       "    }\n",
       "</style>\n",
       "<table border=\"1\" class=\"dataframe\">\n",
       "  <thead>\n",
       "    <tr style=\"text-align: right;\">\n",
       "      <th></th>\n",
       "      <th>userID</th>\n",
       "      <th>Track</th>\n",
       "      <th>artist</th>\n",
       "      <th>genre</th>\n",
       "      <th>City</th>\n",
       "      <th>time</th>\n",
       "      <th>Day</th>\n",
       "    </tr>\n",
       "  </thead>\n",
       "  <tbody>\n",
       "    <tr>\n",
       "      <th>0</th>\n",
       "      <td>FFB692EC</td>\n",
       "      <td>Kamigata To Boots</td>\n",
       "      <td>The Mass Missile</td>\n",
       "      <td>rock</td>\n",
       "      <td>Saint-Petersburg</td>\n",
       "      <td>20:28:33</td>\n",
       "      <td>Wednesday</td>\n",
       "    </tr>\n",
       "    <tr>\n",
       "      <th>1</th>\n",
       "      <td>55204538</td>\n",
       "      <td>Delayed Because of Accident</td>\n",
       "      <td>Andreas Rönnberg</td>\n",
       "      <td>rock</td>\n",
       "      <td>Moscow</td>\n",
       "      <td>14:07:09</td>\n",
       "      <td>Friday</td>\n",
       "    </tr>\n",
       "    <tr>\n",
       "      <th>2</th>\n",
       "      <td>20EC38</td>\n",
       "      <td>Funiculì funiculà</td>\n",
       "      <td>Mario Lanza</td>\n",
       "      <td>pop</td>\n",
       "      <td>Saint-Petersburg</td>\n",
       "      <td>20:58:07</td>\n",
       "      <td>Wednesday</td>\n",
       "    </tr>\n",
       "    <tr>\n",
       "      <th>3</th>\n",
       "      <td>A3DD03C9</td>\n",
       "      <td>Dragons in the Sunset</td>\n",
       "      <td>Fire + Ice</td>\n",
       "      <td>folk</td>\n",
       "      <td>Saint-Petersburg</td>\n",
       "      <td>08:37:09</td>\n",
       "      <td>Monday</td>\n",
       "    </tr>\n",
       "    <tr>\n",
       "      <th>4</th>\n",
       "      <td>E2DC1FAE</td>\n",
       "      <td>Soul People</td>\n",
       "      <td>Space Echo</td>\n",
       "      <td>dance</td>\n",
       "      <td>Moscow</td>\n",
       "      <td>08:34:34</td>\n",
       "      <td>Monday</td>\n",
       "    </tr>\n",
       "    <tr>\n",
       "      <th>5</th>\n",
       "      <td>842029A1</td>\n",
       "      <td>Преданная</td>\n",
       "      <td>IMPERVTOR</td>\n",
       "      <td>rusrap</td>\n",
       "      <td>Saint-Petersburg</td>\n",
       "      <td>13:09:41</td>\n",
       "      <td>Friday</td>\n",
       "    </tr>\n",
       "    <tr>\n",
       "      <th>6</th>\n",
       "      <td>4CB90AA5</td>\n",
       "      <td>True</td>\n",
       "      <td>Roman Messer</td>\n",
       "      <td>dance</td>\n",
       "      <td>Moscow</td>\n",
       "      <td>13:00:07</td>\n",
       "      <td>Wednesday</td>\n",
       "    </tr>\n",
       "    <tr>\n",
       "      <th>7</th>\n",
       "      <td>F03E1C1F</td>\n",
       "      <td>Feeling This Way</td>\n",
       "      <td>Polina Griffith</td>\n",
       "      <td>dance</td>\n",
       "      <td>Moscow</td>\n",
       "      <td>20:47:49</td>\n",
       "      <td>Wednesday</td>\n",
       "    </tr>\n",
       "    <tr>\n",
       "      <th>8</th>\n",
       "      <td>8FA1D3BE</td>\n",
       "      <td>И вновь продолжается бой</td>\n",
       "      <td>NaN</td>\n",
       "      <td>ruspop</td>\n",
       "      <td>Moscow</td>\n",
       "      <td>09:17:40</td>\n",
       "      <td>Friday</td>\n",
       "    </tr>\n",
       "    <tr>\n",
       "      <th>9</th>\n",
       "      <td>E772D5C0</td>\n",
       "      <td>Pessimist</td>\n",
       "      <td>NaN</td>\n",
       "      <td>dance</td>\n",
       "      <td>Saint-Petersburg</td>\n",
       "      <td>21:20:49</td>\n",
       "      <td>Wednesday</td>\n",
       "    </tr>\n",
       "  </tbody>\n",
       "</table>\n",
       "</div>"
      ],
      "text/plain": [
       "     userID                        Track            artist   genre  \\\n",
       "0  FFB692EC            Kamigata To Boots  The Mass Missile    rock   \n",
       "1  55204538  Delayed Because of Accident  Andreas Rönnberg    rock   \n",
       "2    20EC38            Funiculì funiculà       Mario Lanza     pop   \n",
       "3  A3DD03C9        Dragons in the Sunset        Fire + Ice    folk   \n",
       "4  E2DC1FAE                  Soul People        Space Echo   dance   \n",
       "5  842029A1                    Преданная         IMPERVTOR  rusrap   \n",
       "6  4CB90AA5                         True      Roman Messer   dance   \n",
       "7  F03E1C1F             Feeling This Way   Polina Griffith   dance   \n",
       "8  8FA1D3BE     И вновь продолжается бой               NaN  ruspop   \n",
       "9  E772D5C0                    Pessimist               NaN   dance   \n",
       "\n",
       "             City        time        Day  \n",
       "0  Saint-Petersburg  20:28:33  Wednesday  \n",
       "1            Moscow  14:07:09     Friday  \n",
       "2  Saint-Petersburg  20:58:07  Wednesday  \n",
       "3  Saint-Petersburg  08:37:09     Monday  \n",
       "4            Moscow  08:34:34     Monday  \n",
       "5  Saint-Petersburg  13:09:41     Friday  \n",
       "6            Moscow  13:00:07  Wednesday  \n",
       "7            Moscow  20:47:49  Wednesday  \n",
       "8            Moscow  09:17:40     Friday  \n",
       "9  Saint-Petersburg  21:20:49  Wednesday  "
      ]
     },
     "execution_count": 3,
     "metadata": {},
     "output_type": "execute_result"
    }
   ],
   "source": [
    "df.head(10) # получение первых 10 строк таблицы df"
   ]
  },
  {
   "cell_type": "markdown",
   "metadata": {
    "deletable": false,
    "editable": false,
    "id": "EO73Kwic_Zct",
    "tags": [
     "start_task"
    ]
   },
   "source": [
    "**Задание 4**"
   ]
  },
  {
   "cell_type": "code",
   "execution_count": 4,
   "metadata": {
    "deletable": false,
    "id": "DSf2kIb-_Zct"
   },
   "outputs": [
    {
     "name": "stdout",
     "output_type": "stream",
     "text": [
      "<class 'pandas.core.frame.DataFrame'>\n",
      "RangeIndex: 65079 entries, 0 to 65078\n",
      "Data columns (total 7 columns):\n",
      " #   Column    Non-Null Count  Dtype \n",
      "---  ------    --------------  ----- \n",
      " 0     userID  65079 non-null  object\n",
      " 1   Track     63848 non-null  object\n",
      " 2   artist    57876 non-null  object\n",
      " 3   genre     63881 non-null  object\n",
      " 4     City    65079 non-null  object\n",
      " 5   time      65079 non-null  object\n",
      " 6   Day       65079 non-null  object\n",
      "dtypes: object(7)\n",
      "memory usage: 3.5+ MB\n"
     ]
    }
   ],
   "source": [
    "df.info() # получение общей информации о данных в таблице df"
   ]
  },
  {
   "cell_type": "markdown",
   "metadata": {
    "deletable": false,
    "editable": false,
    "id": "TaQ2Iwbr_Zct"
   },
   "source": [
    "Количество значений в столбцах различается. Значит, в данных есть пропущенные значения."
   ]
  },
  {
   "cell_type": "markdown",
   "metadata": {
    "deletable": false,
    "editable": false,
    "id": "4P0UCWzswgEm",
    "tags": [
     "start_task"
    ]
   },
   "source": [
    "**Задание 5**"
   ]
  },
  {
   "cell_type": "code",
   "execution_count": 5,
   "metadata": {
    "id": "c137-ZstwgEm"
   },
   "outputs": [],
   "source": [
    "# Нарушен змеиный регист # Напишите ваш ответ здесь комментарием. Не удаляйте символ #. Не меняйте тип этой ячейки на Markdown."
   ]
  },
  {
   "cell_type": "markdown",
   "metadata": {
    "deletable": false,
    "editable": false,
    "id": "MCB6-dXG_Zct"
   },
   "source": [
    "**Выводы**\n",
    "\n",
    "В каждой строке таблицы — данные о прослушанном треке. Часть колонок описывает саму композицию: название, исполнителя и жанр. Остальные данные рассказывают о пользователе: из какого он города, когда он слушал музыку.\n",
    "\n",
    "Предварительно можно утверждать, что данных достаточно для проверки гипотез. Но встречаются пропуски в данных, а в названиях колонок — расхождения с хорошим стилем.\n",
    "\n",
    "Чтобы двигаться дальше, нужно устранить проблемы в данных."
   ]
  },
  {
   "cell_type": "markdown",
   "metadata": {
    "deletable": false,
    "editable": false,
    "id": "SjYF6Ub9_Zct"
   },
   "source": [
    "## Предобработка данных"
   ]
  },
  {
   "cell_type": "markdown",
   "metadata": {
    "deletable": false,
    "editable": false,
    "id": "dIaKXr29_Zct",
    "tags": [
     "start_task"
    ]
   },
   "source": [
    "### Переименование столбцов\n",
    "\n",
    "**Задание 6**"
   ]
  },
  {
   "cell_type": "code",
   "execution_count": 6,
   "metadata": {
    "deletable": false,
    "id": "oKOTdF_Q_Zct"
   },
   "outputs": [
    {
     "name": "stdout",
     "output_type": "stream",
     "text": [
      "Index(['  userID', 'Track', 'artist', 'genre', '  City  ', 'time', 'Day'], dtype='object')\n"
     ]
    }
   ],
   "source": [
    "print(df.columns)# перечень названий столбцов таблицы df"
   ]
  },
  {
   "cell_type": "markdown",
   "metadata": {
    "deletable": false,
    "editable": false,
    "id": "zj5534cv_Zct",
    "tags": [
     "start_task"
    ]
   },
   "source": [
    "**Задание 7**"
   ]
  },
  {
   "cell_type": "code",
   "execution_count": 7,
   "metadata": {
    "deletable": false,
    "id": "ISlFqs5y_Zct"
   },
   "outputs": [],
   "source": [
    "df = df.rename(columns={'  userID':'user_id', 'Track':'track', '  City  ':'city', 'Day':'day'})# переименование столбцов"
   ]
  },
  {
   "cell_type": "markdown",
   "metadata": {
    "deletable": false,
    "editable": false,
    "id": "1dqbh00J_Zct",
    "tags": [
     "start_task"
    ]
   },
   "source": [
    "**Задание 8**"
   ]
  },
  {
   "cell_type": "code",
   "execution_count": 8,
   "metadata": {
    "deletable": false,
    "id": "d4NOAmTW_Zct"
   },
   "outputs": [
    {
     "name": "stdout",
     "output_type": "stream",
     "text": [
      "Index(['user_id', 'track', 'artist', 'genre', 'city', 'time', 'day'], dtype='object')\n"
     ]
    }
   ],
   "source": [
    "print(df.columns) # проверка результатов - перечень названий столбцов"
   ]
  },
  {
   "cell_type": "markdown",
   "metadata": {
    "deletable": false,
    "editable": false,
    "id": "5ISfbcfY_Zct",
    "tags": [
     "start_task"
    ]
   },
   "source": [
    "### Обработка пропущенных значений\n",
    "\n",
    "**Задание 9**"
   ]
  },
  {
   "cell_type": "code",
   "execution_count": 9,
   "metadata": {
    "deletable": false,
    "id": "RskX29qr_Zct"
   },
   "outputs": [
    {
     "name": "stdout",
     "output_type": "stream",
     "text": [
      "user_id       0\n",
      "track      1231\n",
      "artist     7203\n",
      "genre      1198\n",
      "city          0\n",
      "time          0\n",
      "day           0\n",
      "dtype: int64\n"
     ]
    }
   ],
   "source": [
    "print(df.isna().sum())# подсчёт пропусков"
   ]
  },
  {
   "cell_type": "markdown",
   "metadata": {
    "deletable": false,
    "editable": false,
    "id": "fSv2laPA_Zct",
    "tags": [
     "start_task"
    ]
   },
   "source": [
    "**Задание 10**"
   ]
  },
  {
   "cell_type": "code",
   "execution_count": 10,
   "metadata": {
    "deletable": false,
    "id": "KplB5qWs_Zct"
   },
   "outputs": [],
   "source": [
    "columns_to_replace = ['track', 'artist', 'genre']\n",
    "\n",
    "for column in columns_to_replace:\n",
    "    df[column] = df[column].fillna('unknown')\n",
    "# замена пропущенных значений на 'unknown'"
   ]
  },
  {
   "cell_type": "markdown",
   "metadata": {
    "deletable": false,
    "editable": false,
    "id": "Ilsm-MZo_Zct",
    "tags": [
     "start_task"
    ]
   },
   "source": [
    "**Задание 11**"
   ]
  },
  {
   "cell_type": "code",
   "execution_count": 11,
   "metadata": {
    "deletable": false,
    "id": "Tq4nYRX4_Zct"
   },
   "outputs": [
    {
     "name": "stdout",
     "output_type": "stream",
     "text": [
      "user_id    0\n",
      "track      0\n",
      "artist     0\n",
      "genre      0\n",
      "city       0\n",
      "time       0\n",
      "day        0\n",
      "dtype: int64\n"
     ]
    }
   ],
   "source": [
    "print(df.isna().sum())# проверка на отсутствие пропусков"
   ]
  },
  {
   "cell_type": "markdown",
   "metadata": {
    "deletable": false,
    "editable": false,
    "id": "BWKRtBJ3_Zct",
    "tags": [
     "start_task"
    ]
   },
   "source": [
    "### Обработка дубликатов\n",
    "\n",
    "**Задание 12**"
   ]
  },
  {
   "cell_type": "code",
   "execution_count": 12,
   "metadata": {
    "deletable": false,
    "id": "36eES_S0_Zct"
   },
   "outputs": [
    {
     "name": "stdout",
     "output_type": "stream",
     "text": [
      "3826\n"
     ]
    }
   ],
   "source": [
    "print(df.duplicated().sum()) # подсчёт явных дубликатов"
   ]
  },
  {
   "cell_type": "markdown",
   "metadata": {
    "deletable": false,
    "editable": false,
    "id": "Ot25h6XR_Zct",
    "tags": [
     "start_task"
    ]
   },
   "source": [
    "**Задание 13**"
   ]
  },
  {
   "cell_type": "code",
   "execution_count": 13,
   "metadata": {
    "deletable": false,
    "id": "exFHq6tt_Zct"
   },
   "outputs": [],
   "source": [
    "df = df.drop_duplicates().reset_index(drop=True)# удаление явных дубликатов, создание новых индексов и удаление старых"
   ]
  },
  {
   "cell_type": "markdown",
   "metadata": {
    "deletable": false,
    "editable": false,
    "id": "Im2YwBEG_Zct",
    "tags": [
     "start_task"
    ]
   },
   "source": [
    "**Задание 14**"
   ]
  },
  {
   "cell_type": "code",
   "execution_count": 14,
   "metadata": {
    "deletable": false,
    "id": "-8PuNWQ0_Zct"
   },
   "outputs": [
    {
     "name": "stdout",
     "output_type": "stream",
     "text": [
      "0\n"
     ]
    }
   ],
   "source": [
    "print(df.duplicated().sum())# проверка на отсутствие явных дубликатов"
   ]
  },
  {
   "cell_type": "markdown",
   "metadata": {
    "deletable": false,
    "editable": false,
    "id": "eSjWwsOh_Zct",
    "tags": [
     "start_task"
    ]
   },
   "source": [
    "**Задание 15**"
   ]
  },
  {
   "cell_type": "code",
   "execution_count": 15,
   "metadata": {
    "deletable": false,
    "id": "JIUcqzZN_Zct",
    "scrolled": true
   },
   "outputs": [
    {
     "name": "stdout",
     "output_type": "stream",
     "text": [
      "['acid' 'acoustic' 'action' 'adult' 'africa' 'afrikaans' 'alternative'\n",
      " 'alternativepunk' 'ambient' 'americana' 'animated' 'anime' 'arabesk'\n",
      " 'arabic' 'arena' 'argentinetango' 'art' 'audiobook' 'author' 'avantgarde'\n",
      " 'axé' 'baile' 'balkan' 'beats' 'bigroom' 'black' 'bluegrass' 'blues'\n",
      " 'bollywood' 'bossa' 'brazilian' 'breakbeat' 'breaks' 'broadway'\n",
      " 'cantautori' 'cantopop' 'canzone' 'caribbean' 'caucasian' 'celtic'\n",
      " 'chamber' 'chanson' 'children' 'chill' 'chinese' 'choral' 'christian'\n",
      " 'christmas' 'classical' 'classicmetal' 'club' 'colombian' 'comedy'\n",
      " 'conjazz' 'contemporary' 'country' 'cuban' 'dance' 'dancehall' 'dancepop'\n",
      " 'dark' 'death' 'deep' 'deutschrock' 'deutschspr' 'dirty' 'disco' 'dnb'\n",
      " 'documentary' 'downbeat' 'downtempo' 'drum' 'dub' 'dubstep' 'eastern'\n",
      " 'easy' 'electronic' 'electropop' 'emo' 'entehno' 'epicmetal' 'estrada'\n",
      " 'ethnic' 'eurofolk' 'european' 'experimental' 'extrememetal' 'fado'\n",
      " 'fairytail' 'film' 'fitness' 'flamenco' 'folk' 'folklore' 'folkmetal'\n",
      " 'folkrock' 'folktronica' 'forró' 'frankreich' 'französisch' 'french'\n",
      " 'funk' 'future' 'gangsta' 'garage' 'german' 'ghazal' 'gitarre' 'glitch'\n",
      " 'gospel' 'gothic' 'grime' 'grunge' 'gypsy' 'handsup' \"hard'n'heavy\"\n",
      " 'hardcore' 'hardstyle' 'hardtechno' 'hip' 'hip-hop' 'hiphop' 'historisch'\n",
      " 'holiday' 'hop' 'horror' 'house' 'hymn' 'idm' 'independent' 'indian'\n",
      " 'indie' 'indipop' 'industrial' 'inspirational' 'instrumental'\n",
      " 'international' 'irish' 'jam' 'japanese' 'jazz' 'jewish' 'jpop' 'jungle'\n",
      " 'k-pop' 'karadeniz' 'karaoke' 'kayokyoku' 'korean' 'laiko' 'latin'\n",
      " 'latino' 'leftfield' 'local' 'lounge' 'loungeelectronic' 'lovers'\n",
      " 'malaysian' 'mandopop' 'marschmusik' 'meditative' 'mediterranean'\n",
      " 'melodic' 'metal' 'metalcore' 'mexican' 'middle' 'minimal'\n",
      " 'miscellaneous' 'modern' 'mood' 'mpb' 'muslim' 'native' 'neoklassik'\n",
      " 'neue' 'new' 'newage' 'newwave' 'nu' 'nujazz' 'numetal' 'oceania' 'old'\n",
      " 'opera' 'orchestral' 'other' 'piano' 'podcasts' 'pop' 'popdance'\n",
      " 'popelectronic' 'popeurodance' 'poprussian' 'post' 'posthardcore'\n",
      " 'postrock' 'power' 'progmetal' 'progressive' 'psychedelic' 'punjabi'\n",
      " 'punk' 'quebecois' 'ragga' 'ram' 'rancheras' 'rap' 'rave' 'reggae'\n",
      " 'reggaeton' 'regional' 'relax' 'religious' 'retro' 'rhythm' 'rnb' 'rnr'\n",
      " 'rock' 'rockabilly' 'rockalternative' 'rockindie' 'rockother' 'romance'\n",
      " 'roots' 'ruspop' 'rusrap' 'rusrock' 'russian' 'salsa' 'samba' 'scenic'\n",
      " 'schlager' 'self' 'sertanejo' 'shanson' 'shoegazing' 'showtunes' 'singer'\n",
      " 'ska' 'skarock' 'slow' 'smooth' 'soft' 'soul' 'soulful' 'sound'\n",
      " 'soundtrack' 'southern' 'specialty' 'speech' 'spiritual' 'sport'\n",
      " 'stonerrock' 'surf' 'swing' 'synthpop' 'synthrock' 'sängerportrait'\n",
      " 'tango' 'tanzorchester' 'taraftar' 'tatar' 'tech' 'techno' 'teen'\n",
      " 'thrash' 'top' 'traditional' 'tradjazz' 'trance' 'tribal' 'trip'\n",
      " 'triphop' 'tropical' 'türk' 'türkçe' 'ukrrock' 'unknown' 'urban' 'uzbek'\n",
      " 'variété' 'vi' 'videogame' 'vocal' 'western' 'world' 'worldbeat' 'ïîï'\n",
      " 'электроника']\n"
     ]
    }
   ],
   "source": [
    "# просмотр уникальных отсортированных названий жанров\n",
    "df_genre = df['genre']\n",
    "df_genre = df_genre.sort_values().unique()\n",
    "print(df_genre)"
   ]
  },
  {
   "cell_type": "markdown",
   "metadata": {
    "deletable": false,
    "editable": false,
    "id": "qej-Qmuo_Zct",
    "tags": [
     "start_task"
    ]
   },
   "source": [
    "**Задание 16**"
   ]
  },
  {
   "cell_type": "code",
   "execution_count": 16,
   "metadata": {
    "deletable": false,
    "id": "ErNDkmns_Zct"
   },
   "outputs": [],
   "source": [
    "# устранение неявных дубликатов\n",
    "duplicates = ['hip', 'hop', 'hip-hop'] # список неправильных имён\n",
    "name = 'hiphop' # правильное имя\n",
    "df['genre'] = df['genre'].replace(duplicates, name) # замена всех значений из duplicates на name"
   ]
  },
  {
   "cell_type": "markdown",
   "metadata": {
    "deletable": false,
    "editable": false,
    "id": "zQKF16_RG15m",
    "tags": [
     "start_task"
    ]
   },
   "source": [
    "**Задание 17**"
   ]
  },
  {
   "cell_type": "code",
   "execution_count": 17,
   "metadata": {
    "deletable": false,
    "id": "wvixALnFG15m",
    "scrolled": true
   },
   "outputs": [
    {
     "name": "stdout",
     "output_type": "stream",
     "text": [
      "['acid' 'acoustic' 'action' 'adult' 'africa' 'afrikaans' 'alternative'\n",
      " 'alternativepunk' 'ambient' 'americana' 'animated' 'anime' 'arabesk'\n",
      " 'arabic' 'arena' 'argentinetango' 'art' 'audiobook' 'author' 'avantgarde'\n",
      " 'axé' 'baile' 'balkan' 'beats' 'bigroom' 'black' 'bluegrass' 'blues'\n",
      " 'bollywood' 'bossa' 'brazilian' 'breakbeat' 'breaks' 'broadway'\n",
      " 'cantautori' 'cantopop' 'canzone' 'caribbean' 'caucasian' 'celtic'\n",
      " 'chamber' 'chanson' 'children' 'chill' 'chinese' 'choral' 'christian'\n",
      " 'christmas' 'classical' 'classicmetal' 'club' 'colombian' 'comedy'\n",
      " 'conjazz' 'contemporary' 'country' 'cuban' 'dance' 'dancehall' 'dancepop'\n",
      " 'dark' 'death' 'deep' 'deutschrock' 'deutschspr' 'dirty' 'disco' 'dnb'\n",
      " 'documentary' 'downbeat' 'downtempo' 'drum' 'dub' 'dubstep' 'eastern'\n",
      " 'easy' 'electronic' 'electropop' 'emo' 'entehno' 'epicmetal' 'estrada'\n",
      " 'ethnic' 'eurofolk' 'european' 'experimental' 'extrememetal' 'fado'\n",
      " 'fairytail' 'film' 'fitness' 'flamenco' 'folk' 'folklore' 'folkmetal'\n",
      " 'folkrock' 'folktronica' 'forró' 'frankreich' 'französisch' 'french'\n",
      " 'funk' 'future' 'gangsta' 'garage' 'german' 'ghazal' 'gitarre' 'glitch'\n",
      " 'gospel' 'gothic' 'grime' 'grunge' 'gypsy' 'handsup' \"hard'n'heavy\"\n",
      " 'hardcore' 'hardstyle' 'hardtechno' 'hiphop' 'historisch' 'holiday'\n",
      " 'horror' 'house' 'hymn' 'idm' 'independent' 'indian' 'indie' 'indipop'\n",
      " 'industrial' 'inspirational' 'instrumental' 'international' 'irish' 'jam'\n",
      " 'japanese' 'jazz' 'jewish' 'jpop' 'jungle' 'k-pop' 'karadeniz' 'karaoke'\n",
      " 'kayokyoku' 'korean' 'laiko' 'latin' 'latino' 'leftfield' 'local'\n",
      " 'lounge' 'loungeelectronic' 'lovers' 'malaysian' 'mandopop' 'marschmusik'\n",
      " 'meditative' 'mediterranean' 'melodic' 'metal' 'metalcore' 'mexican'\n",
      " 'middle' 'minimal' 'miscellaneous' 'modern' 'mood' 'mpb' 'muslim'\n",
      " 'native' 'neoklassik' 'neue' 'new' 'newage' 'newwave' 'nu' 'nujazz'\n",
      " 'numetal' 'oceania' 'old' 'opera' 'orchestral' 'other' 'piano' 'podcasts'\n",
      " 'pop' 'popdance' 'popelectronic' 'popeurodance' 'poprussian' 'post'\n",
      " 'posthardcore' 'postrock' 'power' 'progmetal' 'progressive' 'psychedelic'\n",
      " 'punjabi' 'punk' 'quebecois' 'ragga' 'ram' 'rancheras' 'rap' 'rave'\n",
      " 'reggae' 'reggaeton' 'regional' 'relax' 'religious' 'retro' 'rhythm'\n",
      " 'rnb' 'rnr' 'rock' 'rockabilly' 'rockalternative' 'rockindie' 'rockother'\n",
      " 'romance' 'roots' 'ruspop' 'rusrap' 'rusrock' 'russian' 'salsa' 'samba'\n",
      " 'scenic' 'schlager' 'self' 'sertanejo' 'shanson' 'shoegazing' 'showtunes'\n",
      " 'singer' 'ska' 'skarock' 'slow' 'smooth' 'soft' 'soul' 'soulful' 'sound'\n",
      " 'soundtrack' 'southern' 'specialty' 'speech' 'spiritual' 'sport'\n",
      " 'stonerrock' 'surf' 'swing' 'synthpop' 'synthrock' 'sängerportrait'\n",
      " 'tango' 'tanzorchester' 'taraftar' 'tatar' 'tech' 'techno' 'teen'\n",
      " 'thrash' 'top' 'traditional' 'tradjazz' 'trance' 'tribal' 'trip'\n",
      " 'triphop' 'tropical' 'türk' 'türkçe' 'ukrrock' 'unknown' 'urban' 'uzbek'\n",
      " 'variété' 'vi' 'videogame' 'vocal' 'western' 'world' 'worldbeat' 'ïîï'\n",
      " 'электроника']\n"
     ]
    }
   ],
   "source": [
    "# проверка на отсутствие неявных дубликатов\n",
    "print(df['genre'].sort_values().unique())"
   ]
  },
  {
   "cell_type": "markdown",
   "metadata": {
    "deletable": false,
    "editable": false,
    "id": "jz6a9-7HQUDd"
   },
   "source": [
    "**Выводы**\n",
    "\n",
    "Предобработка обнаружила три проблемы в данных:\n",
    "\n",
    "- нарушения в стиле заголовков,\n",
    "- пропущенные значения,\n",
    "- дубликаты — явные и неявные.\n",
    "\n",
    "Вы исправили заголовки, чтобы упростить работу с таблицей. Без дубликатов исследование станет более точным.\n",
    "\n",
    "Пропущенные значения вы заменили на `'unknown'`. Ещё предстоит увидеть, не повредят ли исследованию пропуски в колонке `genre`.\n",
    "\n",
    "Теперь можно перейти к проверке гипотез."
   ]
  },
  {
   "cell_type": "markdown",
   "metadata": {
    "deletable": false,
    "editable": false,
    "id": "WttZHXH0SqKk"
   },
   "source": [
    "## Проверка гипотез"
   ]
  },
  {
   "cell_type": "markdown",
   "metadata": {
    "deletable": false,
    "editable": false,
    "id": "Im936VVi_Zcu"
   },
   "source": [
    "### Сравнение поведения пользователей двух столиц"
   ]
  },
  {
   "cell_type": "markdown",
   "metadata": {
    "deletable": false,
    "editable": false,
    "id": "nwt_MuaL_Zcu"
   },
   "source": [
    "Первая гипотеза утверждает, что пользователи по-разному слушают музыку в Москве и Санкт-Петербурге. Проверим это предположение по данным о трёх днях недели — понедельнике, среде и пятнице. Для этого:\n",
    "\n",
    "* Разделим пользователей Москвы и Санкт-Петербурга.\n",
    "* Сравним, сколько треков послушала каждая группа пользователей в понедельник, среду и пятницу.\n"
   ]
  },
  {
   "cell_type": "markdown",
   "metadata": {
    "deletable": false,
    "id": "8Dw_YMmT_Zcu",
    "tags": [
     "start_task"
    ]
   },
   "source": [
    "**Задание 18**\n",
    "\n"
   ]
  },
  {
   "cell_type": "code",
   "execution_count": 18,
   "metadata": {
    "deletable": false,
    "id": "0_Qs96oh_Zcu"
   },
   "outputs": [
    {
     "name": "stdout",
     "output_type": "stream",
     "text": [
      "city\n",
      "Moscow              42741\n",
      "Saint-Petersburg    18512\n",
      "Name: track, dtype: int64\n"
     ]
    }
   ],
   "source": [
    "# подсчёт прослушиваний в каждом городе\n",
    "count_play_in_city = df.groupby('city')['track'].count()\n",
    "print(count_play_in_city)"
   ]
  },
  {
   "cell_type": "markdown",
   "metadata": {
    "id": "dzli3w8o_Zcu",
    "tags": [
     "start_task"
    ]
   },
   "source": [
    "**Задание 19**\n"
   ]
  },
  {
   "cell_type": "code",
   "execution_count": 19,
   "metadata": {
    "deletable": false,
    "id": "uZMKjiJz_Zcu"
   },
   "outputs": [
    {
     "name": "stdout",
     "output_type": "stream",
     "text": [
      "day\n",
      "Friday       21840\n",
      "Monday       21354\n",
      "Wednesday    18059\n",
      "Name: track, dtype: int64\n"
     ]
    }
   ],
   "source": [
    "# подсчёт прослушиваний в каждый из трёх дней\n",
    "count_play_in_day = df.groupby('day')['track'].count()\n",
    "print(count_play_in_day)"
   ]
  },
  {
   "cell_type": "markdown",
   "metadata": {
    "deletable": false,
    "editable": false,
    "id": "POzs8bGa_Zcu",
    "tags": [
     "start_task"
    ]
   },
   "source": [
    "**Задание 20**"
   ]
  },
  {
   "cell_type": "code",
   "execution_count": 20,
   "metadata": {
    "deletable": false,
    "id": "Nz3GdQB1_Zcu"
   },
   "outputs": [],
   "source": [
    "def number_tracks(day, city):\n",
    "    track_list = df[df['day'] == day]# выберите только строки df со значением переменной day в столбце day\n",
    "    track_list = track_list[track_list['city'] == city]# выберите только строки track_list со значением переменной city в столбце city\n",
    "    track_list_count = track_list['user_id'].count()# вызовите метод подсчета строк для track_list и выберите столбец user_id\n",
    "    return track_list_count# верните значение track_list_count из функции"
   ]
  },
  {
   "cell_type": "markdown",
   "metadata": {
    "deletable": false,
    "editable": false,
    "id": "ytf7xFrFJQ2r",
    "tags": [
     "start_task"
    ]
   },
   "source": [
    "**Задание 21**"
   ]
  },
  {
   "cell_type": "code",
   "execution_count": 21,
   "metadata": {
    "deletable": false,
    "id": "rJcRATNQ_Zcu"
   },
   "outputs": [
    {
     "data": {
      "text/plain": [
       "15740"
      ]
     },
     "execution_count": 21,
     "metadata": {},
     "output_type": "execute_result"
    }
   ],
   "source": [
    "number_tracks('Monday', 'Moscow')# количество прослушиваний в Москве по понедельникам"
   ]
  },
  {
   "cell_type": "code",
   "execution_count": 22,
   "metadata": {
    "deletable": false,
    "id": "hq_ncZ5T_Zcu"
   },
   "outputs": [
    {
     "data": {
      "text/plain": [
       "5614"
      ]
     },
     "execution_count": 22,
     "metadata": {},
     "output_type": "execute_result"
    }
   ],
   "source": [
    "number_tracks('Monday', 'Saint-Petersburg')# количество прослушиваний в Санкт-Петербурге по понедельникам"
   ]
  },
  {
   "cell_type": "code",
   "execution_count": 23,
   "metadata": {
    "deletable": false,
    "id": "_NTy2VPU_Zcu"
   },
   "outputs": [
    {
     "data": {
      "text/plain": [
       "11056"
      ]
     },
     "execution_count": 23,
     "metadata": {},
     "output_type": "execute_result"
    }
   ],
   "source": [
    "number_tracks('Wednesday', 'Moscow')# количество прослушиваний в Москве по средам"
   ]
  },
  {
   "cell_type": "code",
   "execution_count": 24,
   "metadata": {
    "deletable": false,
    "id": "j2y3TAwo_Zcu"
   },
   "outputs": [
    {
     "data": {
      "text/plain": [
       "7003"
      ]
     },
     "execution_count": 24,
     "metadata": {},
     "output_type": "execute_result"
    }
   ],
   "source": [
    "number_tracks('Wednesday', 'Saint-Petersburg')# количество прослушиваний в Санкт-Петербурге по средам"
   ]
  },
  {
   "cell_type": "code",
   "execution_count": 25,
   "metadata": {
    "deletable": false,
    "id": "vYDw5u_K_Zcu"
   },
   "outputs": [
    {
     "data": {
      "text/plain": [
       "15945"
      ]
     },
     "execution_count": 25,
     "metadata": {},
     "output_type": "execute_result"
    }
   ],
   "source": [
    "number_tracks('Friday', 'Moscow')# количество прослушиваний в Москве по пятницам"
   ]
  },
  {
   "cell_type": "code",
   "execution_count": 26,
   "metadata": {
    "deletable": false,
    "id": "8_yzFtW3_Zcu"
   },
   "outputs": [
    {
     "data": {
      "text/plain": [
       "5895"
      ]
     },
     "execution_count": 26,
     "metadata": {},
     "output_type": "execute_result"
    }
   ],
   "source": [
    "number_tracks('Friday', 'Saint-Petersburg')# количество прослушиваний в Санкт-Петербурге по пятницам"
   ]
  },
  {
   "cell_type": "markdown",
   "metadata": {
    "deletable": false,
    "editable": false,
    "id": "7QXffbO-_Zcu",
    "tags": [
     "start_task"
    ]
   },
   "source": [
    "**Задание 22**"
   ]
  },
  {
   "cell_type": "code",
   "execution_count": 27,
   "metadata": {
    "deletable": false,
    "id": "APAcLpOr_Zcu",
    "scrolled": true
   },
   "outputs": [
    {
     "name": "stdout",
     "output_type": "stream",
     "text": [
      "               city  monday  wednesday  friday\n",
      "0            Moscow   15740      11056   15945\n",
      "1  Saint-Petersburg    5614       7003    5895\n"
     ]
    }
   ],
   "source": [
    "# создание таблицы с результатами\n",
    "data = [\n",
    "    ['Moscow', 15740, 11056, 15945],\n",
    "    ['Saint-Petersburg', 5614, 7003, 5895]\n",
    "]\n",
    "columns = ['city', 'monday', 'wednesday', 'friday']\n",
    "info = pd.DataFrame(data=data, columns=columns)\n",
    "# вывод таблицы на экран\n",
    "print(info)"
   ]
  },
  {
   "cell_type": "markdown",
   "metadata": {
    "deletable": false,
    "editable": false,
    "id": "-EgPIHYu_Zcu"
   },
   "source": [
    "**Выводы**\n",
    "\n",
    "Данные показывают разницу поведения пользователей:\n",
    "\n",
    "- В Москве пик прослушиваний приходится на понедельник и пятницу, а в среду заметен спад.\n",
    "- В Петербурге, наоборот, больше слушают музыку по средам. Активность в понедельник и пятницу здесь почти в равной мере уступает среде.\n",
    "\n",
    "Значит, данные говорят в пользу первой гипотезы."
   ]
  },
  {
   "cell_type": "markdown",
   "metadata": {
    "deletable": false,
    "editable": false,
    "id": "atZAxtq4_Zcu"
   },
   "source": [
    "### Музыка в начале и в конце недели"
   ]
  },
  {
   "cell_type": "markdown",
   "metadata": {
    "deletable": false,
    "editable": false,
    "id": "eXrQqXFH_Zcu"
   },
   "source": [
    "Согласно второй гипотезе, утром в понедельник в Москве преобладают одни жанры, а в Петербурге — другие. Так же и вечером пятницы преобладают разные жанры — в зависимости от города."
   ]
  },
  {
   "cell_type": "markdown",
   "metadata": {
    "deletable": false,
    "editable": false,
    "id": "S8UcW6Hw_Zcu",
    "tags": [
     "start_task"
    ]
   },
   "source": [
    "**Задание 23**"
   ]
  },
  {
   "cell_type": "code",
   "execution_count": 28,
   "metadata": {
    "deletable": false,
    "id": "qeaFfM_P_Zcu"
   },
   "outputs": [],
   "source": [
    "# получение таблицы moscow_general из тех строк таблицы df, для которых значение в столбце 'city' равно 'Moscow'\n",
    "moscow_general = df[df['city'] == 'Moscow']"
   ]
  },
  {
   "cell_type": "code",
   "execution_count": 29,
   "metadata": {
    "deletable": false,
    "id": "ORaVRKto_Zcu"
   },
   "outputs": [],
   "source": [
    "# получение таблицы spb_general из тех строк таблицы df, для которых значение в столбце 'city' равно 'Saint-Petersburg'\n",
    "spb_general = df[df['city'] == 'Saint-Petersburg']"
   ]
  },
  {
   "cell_type": "markdown",
   "metadata": {
    "deletable": false,
    "editable": false,
    "id": "MEJV-CX2_Zcu",
    "tags": [
     "start_task"
    ]
   },
   "source": [
    "**Задание 24**"
   ]
  },
  {
   "cell_type": "code",
   "execution_count": 30,
   "metadata": {
    "deletable": false,
    "id": "laJT9BYl_Zcu"
   },
   "outputs": [],
   "source": [
    "def genre_weekday(df, day, time1, time2):\n",
    "    # последовательная фильтрация\n",
    "    # оставляем в genre_df только те строки df, у которых день равен day\n",
    "    genre_df = df[df['day'] == day]# ваш код здесь\n",
    "    # оставляем в genre_df только те строки genre_df, у которых время меньше time2\n",
    "    genre_df = genre_df[genre_df['time'] < time2]# ваш код здесь\n",
    "    # оставляем в genre_df только те строки genre_df, у которых время больше time1\n",
    "    genre_df = genre_df[genre_df['time'] > time1]# ваш код здесь\n",
    "    # сгруппируем отфильтрованный датафрейм по столбцу с названиями жанров, возьмём столбец genre и посчитаем кол-во строк для каждого жанра методом count()\n",
    "    genre_df_grouped = genre_df.groupby('genre')['genre'].count()# ваш код здесь\n",
    "    # отсортируем результат по убыванию (чтобы в начале Series оказались самые популярные жанры)\n",
    "    genre_df_sorted = genre_df_grouped.sort_values(ascending=False)# ваш код здесь\n",
    "    # вернём Series с 10 самыми популярными жанрами в указанный отрезок времени заданного дня\n",
    "    return genre_df_sorted[:10]"
   ]
  },
  {
   "cell_type": "markdown",
   "metadata": {
    "deletable": false,
    "editable": false,
    "id": "la2s2_PF_Zcu",
    "tags": [
     "start_task"
    ]
   },
   "source": [
    "**Задание 25**"
   ]
  },
  {
   "cell_type": "code",
   "execution_count": 31,
   "metadata": {
    "deletable": false,
    "id": "yz7itPUQ_Zcu"
   },
   "outputs": [
    {
     "data": {
      "text/plain": [
       "genre\n",
       "pop            781\n",
       "dance          549\n",
       "electronic     480\n",
       "rock           474\n",
       "hiphop         286\n",
       "ruspop         186\n",
       "world          181\n",
       "rusrap         175\n",
       "alternative    164\n",
       "unknown        161\n",
       "Name: genre, dtype: int64"
      ]
     },
     "execution_count": 31,
     "metadata": {},
     "output_type": "execute_result"
    }
   ],
   "source": [
    "genre_weekday(moscow_general, 'Monday', '07:00', '11:00')# вызов функции для утра понедельника в Москве (вместо df — таблица moscow_general)"
   ]
  },
  {
   "cell_type": "code",
   "execution_count": 32,
   "metadata": {
    "deletable": false,
    "id": "kwUcHPdy_Zcu"
   },
   "outputs": [
    {
     "data": {
      "text/plain": [
       "genre\n",
       "pop            218\n",
       "dance          182\n",
       "rock           162\n",
       "electronic     147\n",
       "hiphop          80\n",
       "ruspop          64\n",
       "alternative     58\n",
       "rusrap          55\n",
       "jazz            44\n",
       "classical       40\n",
       "Name: genre, dtype: int64"
      ]
     },
     "execution_count": 32,
     "metadata": {},
     "output_type": "execute_result"
    }
   ],
   "source": [
    "genre_weekday(spb_general, 'Monday', '07:00', '11:00')# вызов функции для утра понедельника в Петербурге (вместо df — таблица spb_general)"
   ]
  },
  {
   "cell_type": "code",
   "execution_count": 33,
   "metadata": {
    "deletable": false,
    "id": "EzXVRE1o_Zcu"
   },
   "outputs": [
    {
     "data": {
      "text/plain": [
       "genre\n",
       "pop            713\n",
       "rock           517\n",
       "dance          495\n",
       "electronic     482\n",
       "hiphop         273\n",
       "world          208\n",
       "ruspop         170\n",
       "alternative    163\n",
       "classical      163\n",
       "rusrap         142\n",
       "Name: genre, dtype: int64"
      ]
     },
     "execution_count": 33,
     "metadata": {},
     "output_type": "execute_result"
    }
   ],
   "source": [
    "genre_weekday(moscow_general, 'Friday', '17:00', '23:00')# вызов функции для вечера пятницы в Москве"
   ]
  },
  {
   "cell_type": "code",
   "execution_count": 34,
   "metadata": {
    "deletable": false,
    "id": "JZaEKu5v_Zcu"
   },
   "outputs": [
    {
     "data": {
      "text/plain": [
       "genre\n",
       "pop            256\n",
       "electronic     216\n",
       "rock           216\n",
       "dance          210\n",
       "hiphop          97\n",
       "alternative     63\n",
       "jazz            61\n",
       "classical       60\n",
       "rusrap          59\n",
       "world           54\n",
       "Name: genre, dtype: int64"
      ]
     },
     "execution_count": 34,
     "metadata": {},
     "output_type": "execute_result"
    }
   ],
   "source": [
    "genre_weekday(spb_general, 'Friday', '17:00', '23:00')# вызов функции для вечера пятницы в Петербурге"
   ]
  },
  {
   "cell_type": "markdown",
   "metadata": {
    "deletable": false,
    "editable": false,
    "id": "wrCe4MNX_Zcu"
   },
   "source": [
    "**Выводы**\n",
    "\n",
    "Если сравнить топ-10 жанров в понедельник утром, можно сделать такие выводы:\n",
    "\n",
    "1. В Москве и Петербурге слушают похожую музыку. Единственное различие — в московский рейтинг вошёл жанр “world”, а в петербургский — джаз и классика.\n",
    "\n",
    "2. В Москве пропущенных значений оказалось так много, что значение `'unknown'` заняло десятое место среди самых популярных жанров. Значит, пропущенные значения занимают существенную долю в данных и угрожают достоверности исследования.\n",
    "\n",
    "Вечер пятницы не меняет эту картину. Некоторые жанры поднимаются немного выше, другие спускаются, но в целом топ-10 остаётся тем же самым.\n",
    "\n",
    "Таким образом, вторая гипотеза подтвердилась лишь частично:\n",
    "* Пользователи слушают похожую музыку в начале недели и в конце.\n",
    "* Разница между Москвой и Петербургом не слишком выражена. В Москве чаще слушают русскую популярную музыку, в Петербурге — джаз.\n",
    "\n",
    "Однако пропуски в данных ставят под сомнение этот результат. В Москве их так много, что рейтинг топ-10 мог бы выглядеть иначе, если бы не утерянные  данные о жанрах."
   ]
  },
  {
   "cell_type": "markdown",
   "metadata": {
    "deletable": false,
    "editable": false,
    "id": "JolODAqr_Zcu"
   },
   "source": [
    "### Жанровые предпочтения в Москве и Петербурге\n",
    "\n",
    "Гипотеза: Петербург — столица рэпа, музыку этого жанра там слушают чаще, чем в Москве.  А Москва — город контрастов, в котором, тем не менее, преобладает поп-музыка."
   ]
  },
  {
   "cell_type": "markdown",
   "metadata": {
    "deletable": false,
    "editable": false,
    "id": "DlegSvaT_Zcu",
    "tags": [
     "start_task"
    ]
   },
   "source": [
    "**Задание 26**"
   ]
  },
  {
   "cell_type": "code",
   "execution_count": 39,
   "metadata": {
    "deletable": false,
    "id": "r19lIPke_Zcu"
   },
   "outputs": [],
   "source": [
    "# одной строкой: группировка таблицы moscow_general по столбцу 'genre', выбор столбца `genre`, подсчёт числа значений 'genre' методом count(), сохранение в moscow_genres\n",
    "moscow_genres = moscow_general.groupby('genre')['genre'].count()\n",
    "# сортировка получившегося Series в порядке убывания и сохранение обратно в moscow_genres\n",
    "moscow_genres = moscow_genres.sort_values(ascending=False)"
   ]
  },
  {
   "cell_type": "markdown",
   "metadata": {
    "deletable": false,
    "editable": false,
    "id": "6kMuomxTiIr8",
    "tags": [
     "start_task"
    ]
   },
   "source": [
    "**Задание 27**"
   ]
  },
  {
   "cell_type": "code",
   "execution_count": 40,
   "metadata": {
    "deletable": false,
    "id": "WhCSooF8_Zcv"
   },
   "outputs": [
    {
     "data": {
      "text/plain": [
       "genre\n",
       "pop            5892\n",
       "dance          4435\n",
       "rock           3965\n",
       "electronic     3786\n",
       "hiphop         2096\n",
       "classical      1616\n",
       "world          1432\n",
       "alternative    1379\n",
       "ruspop         1372\n",
       "rusrap         1161\n",
       "Name: genre, dtype: int64"
      ]
     },
     "execution_count": 40,
     "metadata": {},
     "output_type": "execute_result"
    }
   ],
   "source": [
    "# просмотр первых 10 строк moscow_genres\n",
    "moscow_genres.head(10)"
   ]
  },
  {
   "cell_type": "markdown",
   "metadata": {
    "deletable": false,
    "editable": false,
    "id": "cnPG2vnN_Zcv",
    "tags": [
     "start_task"
    ]
   },
   "source": [
    "**Задание 28**"
   ]
  },
  {
   "cell_type": "code",
   "execution_count": 41,
   "metadata": {
    "deletable": false,
    "id": "gluLIpE7_Zcv"
   },
   "outputs": [],
   "source": [
    "# одной строкой: группировка таблицы spb_general по столбцу 'genre', выбор столбца `genre`, подсчёт числа значений 'genre' методом count(), сохранение в spb_genres\n",
    "spb_genres = spb_general.groupby('genre')['genre'].count()\n",
    "# сортировка получившегося Series в порядке убывания и сохранение обратно в spb_genres\n",
    "spb_genres = spb_genres.sort_values(ascending=False)"
   ]
  },
  {
   "cell_type": "markdown",
   "metadata": {
    "deletable": false,
    "editable": false,
    "id": "5Doha_ODgyQ8",
    "tags": [
     "start_task"
    ]
   },
   "source": [
    "**Задание 29**"
   ]
  },
  {
   "cell_type": "code",
   "execution_count": 42,
   "metadata": {
    "deletable": false,
    "id": "uaGJHjVU_Zcv"
   },
   "outputs": [
    {
     "data": {
      "text/plain": [
       "genre\n",
       "pop            2431\n",
       "dance          1932\n",
       "rock           1879\n",
       "electronic     1736\n",
       "hiphop          960\n",
       "alternative     649\n",
       "classical       646\n",
       "rusrap          564\n",
       "ruspop          538\n",
       "world           515\n",
       "Name: genre, dtype: int64"
      ]
     },
     "execution_count": 42,
     "metadata": {},
     "output_type": "execute_result"
    }
   ],
   "source": [
    "# просмотр первых 10 строк spb_genres\n",
    "spb_genres.head(10)"
   ]
  },
  {
   "cell_type": "markdown",
   "metadata": {
    "deletable": false,
    "editable": false,
    "id": "RY51YJYu_Zcv"
   },
   "source": [
    "**Выводы**"
   ]
  },
  {
   "cell_type": "markdown",
   "metadata": {
    "deletable": false,
    "editable": false,
    "id": "nVhnJEm__Zcv"
   },
   "source": [
    "Гипотеза частично подтвердилась:\n",
    "* Поп-музыка — самый популярный жанр в Москве, как и предполагала гипотеза. Более того, в топ-10 жанров встречается близкий жанр — русская популярная музыка.\n",
    "* Вопреки ожиданиям, рэп одинаково популярен в Москве и Петербурге.\n"
   ]
  },
  {
   "cell_type": "markdown",
   "metadata": {
    "deletable": false,
    "editable": false,
    "id": "ykKQ0N65_Zcv"
   },
   "source": [
    "## Итоги исследования"
   ]
  },
  {
   "cell_type": "markdown",
   "metadata": {
    "deletable": false,
    "editable": false,
    "id": "tjUwbHb3_Zcv"
   },
   "source": [
    "Вы проверили три гипотезы и установили:\n",
    "\n",
    "1. День недели по-разному влияет на активность пользователей в Москве и Петербурге.\n",
    "\n",
    "Первая гипотеза полностью подтвердилась.\n",
    "\n",
    "2. Музыкальные предпочтения не сильно меняются в течение недели — будь то Москва или Петербург. Небольшие различия заметны в начале недели, по понедельникам:\n",
    "* в Москве слушают музыку жанра “world”,\n",
    "* в Петербурге — джаз и классику.\n",
    "\n",
    "Таким образом, вторая гипотеза подтвердилась лишь отчасти. Этот результат мог оказаться иным, если бы не пропуски в данных.\n",
    "\n",
    "3. Во вкусах пользователей Москвы и Петербурга больше общего, чем различий. Вопреки ожиданиям, предпочтения жанров в Петербурге напоминают московские.\n",
    "\n",
    "Третья гипотеза не подтвердилась. Если различия в предпочтениях и существуют, на основной массе пользователей они незаметны.\n",
    "\n",
    "**На практике исследования содержат проверки статистических гипотез.**\n",
    "Из части данных одного сервиса невозможно сделать какие-то выводы о всех пользователях сервиса без методов статистики.\n",
    "Проверки статистических гипотез покажут, насколько они достоверны, исходя из имеющихся данных.\n",
    "С методами проверок гипотез вы ещё познакомитесь в следующих темах."
   ]
  }
 ],
 "metadata": {
  "ExecuteTimeLog": [
   {
    "duration": 63,
    "start_time": "2024-03-02T11:20:15.598Z"
   },
   {
    "duration": 7,
    "start_time": "2024-03-02T11:22:18.998Z"
   },
   {
    "duration": 425,
    "start_time": "2024-03-02T11:23:17.538Z"
   },
   {
    "duration": 266,
    "start_time": "2024-03-02T11:23:17.965Z"
   },
   {
    "duration": 19,
    "start_time": "2024-03-02T11:23:18.233Z"
   },
   {
    "duration": 36,
    "start_time": "2024-03-02T11:23:18.254Z"
   },
   {
    "duration": 3,
    "start_time": "2024-03-02T11:23:18.292Z"
   },
   {
    "duration": 8,
    "start_time": "2024-03-02T11:23:18.297Z"
   },
   {
    "duration": 2,
    "start_time": "2024-03-02T11:23:18.307Z"
   },
   {
    "duration": 4,
    "start_time": "2024-03-02T11:23:18.311Z"
   },
   {
    "duration": 4,
    "start_time": "2024-03-02T11:23:18.316Z"
   },
   {
    "duration": 4,
    "start_time": "2024-03-02T11:23:18.322Z"
   },
   {
    "duration": 4,
    "start_time": "2024-03-02T11:23:18.327Z"
   },
   {
    "duration": 4,
    "start_time": "2024-03-02T11:23:18.332Z"
   },
   {
    "duration": 3,
    "start_time": "2024-03-02T11:23:18.381Z"
   },
   {
    "duration": 16,
    "start_time": "2024-03-02T11:23:18.387Z"
   },
   {
    "duration": 4,
    "start_time": "2024-03-02T11:23:18.405Z"
   },
   {
    "duration": 4,
    "start_time": "2024-03-02T11:23:18.410Z"
   },
   {
    "duration": 16,
    "start_time": "2024-03-02T11:23:18.415Z"
   },
   {
    "duration": 4,
    "start_time": "2024-03-02T11:23:18.433Z"
   },
   {
    "duration": 13,
    "start_time": "2024-03-02T11:23:18.438Z"
   },
   {
    "duration": 71,
    "start_time": "2024-03-02T11:23:18.453Z"
   },
   {
    "duration": 0,
    "start_time": "2024-03-02T11:23:18.526Z"
   },
   {
    "duration": 0,
    "start_time": "2024-03-02T11:23:18.527Z"
   },
   {
    "duration": 0,
    "start_time": "2024-03-02T11:23:18.528Z"
   },
   {
    "duration": 0,
    "start_time": "2024-03-02T11:23:18.529Z"
   },
   {
    "duration": 0,
    "start_time": "2024-03-02T11:23:18.530Z"
   },
   {
    "duration": 0,
    "start_time": "2024-03-02T11:23:18.532Z"
   },
   {
    "duration": 0,
    "start_time": "2024-03-02T11:23:18.533Z"
   },
   {
    "duration": 0,
    "start_time": "2024-03-02T11:23:18.534Z"
   },
   {
    "duration": 0,
    "start_time": "2024-03-02T11:23:18.535Z"
   },
   {
    "duration": 0,
    "start_time": "2024-03-02T11:23:18.536Z"
   },
   {
    "duration": 0,
    "start_time": "2024-03-02T11:23:18.537Z"
   },
   {
    "duration": 0,
    "start_time": "2024-03-02T11:23:18.538Z"
   },
   {
    "duration": 0,
    "start_time": "2024-03-02T11:23:18.540Z"
   },
   {
    "duration": 0,
    "start_time": "2024-03-02T11:23:18.541Z"
   },
   {
    "duration": 0,
    "start_time": "2024-03-02T11:23:18.542Z"
   },
   {
    "duration": 0,
    "start_time": "2024-03-02T11:23:18.543Z"
   },
   {
    "duration": 0,
    "start_time": "2024-03-02T11:23:18.544Z"
   },
   {
    "duration": 0,
    "start_time": "2024-03-02T11:23:18.545Z"
   },
   {
    "duration": 16,
    "start_time": "2024-03-02T11:27:55.012Z"
   },
   {
    "duration": 13,
    "start_time": "2024-03-02T11:28:01.629Z"
   },
   {
    "duration": 3,
    "start_time": "2024-03-02T11:28:47.770Z"
   },
   {
    "duration": 28,
    "start_time": "2024-03-02T11:30:40.462Z"
   },
   {
    "duration": 37,
    "start_time": "2024-03-02T11:33:06.674Z"
   },
   {
    "duration": 40,
    "start_time": "2024-03-02T11:38:46.136Z"
   },
   {
    "duration": 34,
    "start_time": "2024-03-02T11:39:20.750Z"
   },
   {
    "duration": 74,
    "start_time": "2024-03-02T11:40:39.067Z"
   },
   {
    "duration": 94,
    "start_time": "2024-03-02T11:42:26.912Z"
   },
   {
    "duration": 58,
    "start_time": "2024-03-02T11:43:08.396Z"
   },
   {
    "duration": 71,
    "start_time": "2024-03-02T11:52:12.365Z"
   },
   {
    "duration": 62,
    "start_time": "2024-03-02T11:54:23.071Z"
   },
   {
    "duration": 66,
    "start_time": "2024-03-02T11:54:34.639Z"
   },
   {
    "duration": 55,
    "start_time": "2024-03-02T11:54:41.466Z"
   },
   {
    "duration": 474,
    "start_time": "2024-03-02T11:57:31.368Z"
   },
   {
    "duration": 205,
    "start_time": "2024-03-02T11:57:31.845Z"
   },
   {
    "duration": 21,
    "start_time": "2024-03-02T11:57:32.051Z"
   },
   {
    "duration": 55,
    "start_time": "2024-03-02T11:57:32.081Z"
   },
   {
    "duration": 14,
    "start_time": "2024-03-02T11:57:32.138Z"
   },
   {
    "duration": 26,
    "start_time": "2024-03-02T11:57:32.154Z"
   },
   {
    "duration": 62,
    "start_time": "2024-03-02T11:57:32.182Z"
   },
   {
    "duration": 35,
    "start_time": "2024-03-02T11:57:32.245Z"
   },
   {
    "duration": 48,
    "start_time": "2024-03-02T11:57:32.282Z"
   },
   {
    "duration": 54,
    "start_time": "2024-03-02T11:57:32.333Z"
   },
   {
    "duration": 28,
    "start_time": "2024-03-02T11:57:32.388Z"
   },
   {
    "duration": 92,
    "start_time": "2024-03-02T11:57:32.418Z"
   },
   {
    "duration": 144,
    "start_time": "2024-03-02T11:57:32.512Z"
   },
   {
    "duration": 80,
    "start_time": "2024-03-02T11:57:32.658Z"
   },
   {
    "duration": 63,
    "start_time": "2024-03-02T11:57:32.740Z"
   },
   {
    "duration": 2,
    "start_time": "2024-03-02T11:57:32.805Z"
   },
   {
    "duration": 16,
    "start_time": "2024-03-02T11:57:32.809Z"
   },
   {
    "duration": 11,
    "start_time": "2024-03-02T11:57:32.827Z"
   },
   {
    "duration": 5,
    "start_time": "2024-03-02T11:57:32.839Z"
   },
   {
    "duration": 93,
    "start_time": "2024-03-02T11:57:32.845Z"
   },
   {
    "duration": 0,
    "start_time": "2024-03-02T11:57:32.939Z"
   },
   {
    "duration": 0,
    "start_time": "2024-03-02T11:57:32.940Z"
   },
   {
    "duration": 0,
    "start_time": "2024-03-02T11:57:32.942Z"
   },
   {
    "duration": 0,
    "start_time": "2024-03-02T11:57:32.943Z"
   },
   {
    "duration": 0,
    "start_time": "2024-03-02T11:57:32.944Z"
   },
   {
    "duration": 0,
    "start_time": "2024-03-02T11:57:32.945Z"
   },
   {
    "duration": 0,
    "start_time": "2024-03-02T11:57:32.946Z"
   },
   {
    "duration": 0,
    "start_time": "2024-03-02T11:57:32.948Z"
   },
   {
    "duration": 0,
    "start_time": "2024-03-02T11:57:32.949Z"
   },
   {
    "duration": 0,
    "start_time": "2024-03-02T11:57:32.950Z"
   },
   {
    "duration": 0,
    "start_time": "2024-03-02T11:57:32.951Z"
   },
   {
    "duration": 0,
    "start_time": "2024-03-02T11:57:32.952Z"
   },
   {
    "duration": 0,
    "start_time": "2024-03-02T11:57:32.953Z"
   },
   {
    "duration": 0,
    "start_time": "2024-03-02T11:57:32.954Z"
   },
   {
    "duration": 0,
    "start_time": "2024-03-02T11:57:32.955Z"
   },
   {
    "duration": 0,
    "start_time": "2024-03-02T11:57:32.956Z"
   },
   {
    "duration": 0,
    "start_time": "2024-03-02T11:57:32.957Z"
   },
   {
    "duration": 0,
    "start_time": "2024-03-02T11:57:32.958Z"
   },
   {
    "duration": 69,
    "start_time": "2024-03-02T11:59:05.696Z"
   },
   {
    "duration": 11,
    "start_time": "2024-03-02T12:00:05.663Z"
   },
   {
    "duration": 5,
    "start_time": "2024-03-02T12:01:35.120Z"
   },
   {
    "duration": 5,
    "start_time": "2024-03-02T12:01:44.558Z"
   },
   {
    "duration": 5,
    "start_time": "2024-03-02T12:01:50.659Z"
   },
   {
    "duration": 9,
    "start_time": "2024-03-02T12:02:29.273Z"
   },
   {
    "duration": 5,
    "start_time": "2024-03-02T12:02:41.924Z"
   },
   {
    "duration": 8,
    "start_time": "2024-03-02T12:03:07.241Z"
   },
   {
    "duration": 43,
    "start_time": "2024-03-02T12:03:46.224Z"
   },
   {
    "duration": 980,
    "start_time": "2024-03-02T12:03:51.725Z"
   },
   {
    "duration": 62,
    "start_time": "2024-03-02T12:04:04.091Z"
   },
   {
    "duration": 428,
    "start_time": "2024-03-02T12:06:19.983Z"
   },
   {
    "duration": 189,
    "start_time": "2024-03-02T12:06:20.416Z"
   },
   {
    "duration": 21,
    "start_time": "2024-03-02T12:06:20.608Z"
   },
   {
    "duration": 52,
    "start_time": "2024-03-02T12:06:20.631Z"
   },
   {
    "duration": 3,
    "start_time": "2024-03-02T12:06:20.685Z"
   },
   {
    "duration": 6,
    "start_time": "2024-03-02T12:06:20.690Z"
   },
   {
    "duration": 11,
    "start_time": "2024-03-02T12:06:20.698Z"
   },
   {
    "duration": 5,
    "start_time": "2024-03-02T12:06:20.711Z"
   },
   {
    "duration": 28,
    "start_time": "2024-03-02T12:06:20.718Z"
   },
   {
    "duration": 52,
    "start_time": "2024-03-02T12:06:20.748Z"
   },
   {
    "duration": 50,
    "start_time": "2024-03-02T12:06:20.802Z"
   },
   {
    "duration": 73,
    "start_time": "2024-03-02T12:06:20.854Z"
   },
   {
    "duration": 95,
    "start_time": "2024-03-02T12:06:20.929Z"
   },
   {
    "duration": 74,
    "start_time": "2024-03-02T12:06:21.026Z"
   },
   {
    "duration": 47,
    "start_time": "2024-03-02T12:06:21.102Z"
   },
   {
    "duration": 4,
    "start_time": "2024-03-02T12:06:21.151Z"
   },
   {
    "duration": 26,
    "start_time": "2024-03-02T12:06:21.156Z"
   },
   {
    "duration": 3,
    "start_time": "2024-03-02T12:06:21.184Z"
   },
   {
    "duration": 6,
    "start_time": "2024-03-02T12:06:21.188Z"
   },
   {
    "duration": 71,
    "start_time": "2024-03-02T12:06:21.196Z"
   },
   {
    "duration": 0,
    "start_time": "2024-03-02T12:06:21.268Z"
   },
   {
    "duration": 0,
    "start_time": "2024-03-02T12:06:21.270Z"
   },
   {
    "duration": 0,
    "start_time": "2024-03-02T12:06:21.270Z"
   },
   {
    "duration": 0,
    "start_time": "2024-03-02T12:06:21.273Z"
   },
   {
    "duration": 0,
    "start_time": "2024-03-02T12:06:21.274Z"
   },
   {
    "duration": 0,
    "start_time": "2024-03-02T12:06:21.277Z"
   },
   {
    "duration": 0,
    "start_time": "2024-03-02T12:06:21.278Z"
   },
   {
    "duration": 0,
    "start_time": "2024-03-02T12:06:21.280Z"
   },
   {
    "duration": 0,
    "start_time": "2024-03-02T12:06:21.281Z"
   },
   {
    "duration": 0,
    "start_time": "2024-03-02T12:06:21.283Z"
   },
   {
    "duration": 0,
    "start_time": "2024-03-02T12:06:21.285Z"
   },
   {
    "duration": 0,
    "start_time": "2024-03-02T12:06:21.287Z"
   },
   {
    "duration": 0,
    "start_time": "2024-03-02T12:06:21.289Z"
   },
   {
    "duration": 0,
    "start_time": "2024-03-02T12:06:21.291Z"
   },
   {
    "duration": 0,
    "start_time": "2024-03-02T12:06:21.293Z"
   },
   {
    "duration": 0,
    "start_time": "2024-03-02T12:06:21.294Z"
   },
   {
    "duration": 0,
    "start_time": "2024-03-02T12:06:21.296Z"
   },
   {
    "duration": 0,
    "start_time": "2024-03-02T12:06:21.298Z"
   },
   {
    "duration": 456,
    "start_time": "2024-03-02T12:07:11.514Z"
   },
   {
    "duration": 240,
    "start_time": "2024-03-02T12:07:11.973Z"
   },
   {
    "duration": 19,
    "start_time": "2024-03-02T12:07:12.216Z"
   },
   {
    "duration": 46,
    "start_time": "2024-03-02T12:07:12.237Z"
   },
   {
    "duration": 3,
    "start_time": "2024-03-02T12:07:12.284Z"
   },
   {
    "duration": 6,
    "start_time": "2024-03-02T12:07:12.288Z"
   },
   {
    "duration": 14,
    "start_time": "2024-03-02T12:07:12.295Z"
   },
   {
    "duration": 8,
    "start_time": "2024-03-02T12:07:12.310Z"
   },
   {
    "duration": 29,
    "start_time": "2024-03-02T12:07:12.320Z"
   },
   {
    "duration": 50,
    "start_time": "2024-03-02T12:07:12.352Z"
   },
   {
    "duration": 28,
    "start_time": "2024-03-02T12:07:12.404Z"
   },
   {
    "duration": 91,
    "start_time": "2024-03-02T12:07:12.434Z"
   },
   {
    "duration": 100,
    "start_time": "2024-03-02T12:07:12.527Z"
   },
   {
    "duration": 74,
    "start_time": "2024-03-02T12:07:12.629Z"
   },
   {
    "duration": 46,
    "start_time": "2024-03-02T12:07:12.705Z"
   },
   {
    "duration": 3,
    "start_time": "2024-03-02T12:07:12.753Z"
   },
   {
    "duration": 25,
    "start_time": "2024-03-02T12:07:12.757Z"
   },
   {
    "duration": 3,
    "start_time": "2024-03-02T12:07:12.784Z"
   },
   {
    "duration": 3,
    "start_time": "2024-03-02T12:07:12.789Z"
   },
   {
    "duration": 82,
    "start_time": "2024-03-02T12:07:12.794Z"
   },
   {
    "duration": 0,
    "start_time": "2024-03-02T12:07:12.878Z"
   },
   {
    "duration": 0,
    "start_time": "2024-03-02T12:07:12.879Z"
   },
   {
    "duration": 0,
    "start_time": "2024-03-02T12:07:12.880Z"
   },
   {
    "duration": 0,
    "start_time": "2024-03-02T12:07:12.882Z"
   },
   {
    "duration": 0,
    "start_time": "2024-03-02T12:07:12.883Z"
   },
   {
    "duration": 0,
    "start_time": "2024-03-02T12:07:12.884Z"
   },
   {
    "duration": 0,
    "start_time": "2024-03-02T12:07:12.886Z"
   },
   {
    "duration": 0,
    "start_time": "2024-03-02T12:07:12.887Z"
   },
   {
    "duration": 0,
    "start_time": "2024-03-02T12:07:12.888Z"
   },
   {
    "duration": 0,
    "start_time": "2024-03-02T12:07:12.889Z"
   },
   {
    "duration": 0,
    "start_time": "2024-03-02T12:07:12.891Z"
   },
   {
    "duration": 0,
    "start_time": "2024-03-02T12:07:12.892Z"
   },
   {
    "duration": 0,
    "start_time": "2024-03-02T12:07:12.893Z"
   },
   {
    "duration": 0,
    "start_time": "2024-03-02T12:07:12.894Z"
   },
   {
    "duration": 0,
    "start_time": "2024-03-02T12:07:12.895Z"
   },
   {
    "duration": 0,
    "start_time": "2024-03-02T12:07:12.897Z"
   },
   {
    "duration": 0,
    "start_time": "2024-03-02T12:07:12.898Z"
   },
   {
    "duration": 0,
    "start_time": "2024-03-02T12:07:12.899Z"
   },
   {
    "duration": 45,
    "start_time": "2024-03-02T12:08:06.890Z"
   },
   {
    "duration": 44,
    "start_time": "2024-03-02T12:08:14.660Z"
   },
   {
    "duration": 18,
    "start_time": "2024-03-02T12:13:48.900Z"
   },
   {
    "duration": 4,
    "start_time": "2024-03-02T12:14:26.675Z"
   },
   {
    "duration": 5,
    "start_time": "2024-03-02T12:14:58.881Z"
   },
   {
    "duration": 79,
    "start_time": "2024-03-02T12:15:44.607Z"
   },
   {
    "duration": 45,
    "start_time": "2024-03-02T12:15:51.356Z"
   },
   {
    "duration": 12,
    "start_time": "2024-03-02T12:21:14.927Z"
   },
   {
    "duration": 12,
    "start_time": "2024-03-02T12:21:41.640Z"
   },
   {
    "duration": 13,
    "start_time": "2024-03-02T12:23:13.753Z"
   },
   {
    "duration": 14,
    "start_time": "2024-03-02T12:24:03.573Z"
   },
   {
    "duration": 4,
    "start_time": "2024-03-02T12:38:40.755Z"
   },
   {
    "duration": 3,
    "start_time": "2024-03-02T12:45:48.199Z"
   },
   {
    "duration": 22,
    "start_time": "2024-03-02T12:50:40.834Z"
   },
   {
    "duration": 16,
    "start_time": "2024-03-02T12:50:51.022Z"
   },
   {
    "duration": 16,
    "start_time": "2024-03-02T12:50:54.027Z"
   },
   {
    "duration": 16,
    "start_time": "2024-03-02T12:51:05.884Z"
   },
   {
    "duration": 19,
    "start_time": "2024-03-02T12:51:07.620Z"
   },
   {
    "duration": 18,
    "start_time": "2024-03-02T12:51:09.032Z"
   },
   {
    "duration": 10,
    "start_time": "2024-03-02T12:58:28.420Z"
   },
   {
    "duration": 1161,
    "start_time": "2024-03-02T13:00:43.564Z"
   },
   {
    "duration": 1142,
    "start_time": "2024-03-02T13:01:33.738Z"
   },
   {
    "duration": 18,
    "start_time": "2024-03-02T13:02:07.543Z"
   },
   {
    "duration": 22,
    "start_time": "2024-03-02T13:02:17.588Z"
   },
   {
    "duration": 10,
    "start_time": "2024-03-02T13:02:54.255Z"
   },
   {
    "duration": 4,
    "start_time": "2024-03-02T13:09:55.622Z"
   },
   {
    "duration": 18,
    "start_time": "2024-03-02T13:12:47.387Z"
   },
   {
    "duration": 12,
    "start_time": "2024-03-02T13:12:49.678Z"
   },
   {
    "duration": 19,
    "start_time": "2024-03-02T13:12:54.916Z"
   },
   {
    "duration": 4,
    "start_time": "2024-03-02T13:12:57.837Z"
   },
   {
    "duration": 13,
    "start_time": "2024-03-02T13:13:14.883Z"
   },
   {
    "duration": 12,
    "start_time": "2024-03-02T13:18:08.172Z"
   },
   {
    "duration": 9,
    "start_time": "2024-03-02T13:18:39.071Z"
   },
   {
    "duration": 9,
    "start_time": "2024-03-02T13:18:42.531Z"
   },
   {
    "duration": 9,
    "start_time": "2024-03-02T13:19:08.244Z"
   },
   {
    "duration": 8,
    "start_time": "2024-03-02T13:19:50.304Z"
   },
   {
    "duration": 9,
    "start_time": "2024-03-02T13:20:12.725Z"
   },
   {
    "duration": 9,
    "start_time": "2024-03-02T13:20:38.489Z"
   },
   {
    "duration": 8,
    "start_time": "2024-03-02T13:20:40.571Z"
   },
   {
    "duration": 390,
    "start_time": "2024-03-02T13:20:52.107Z"
   },
   {
    "duration": 182,
    "start_time": "2024-03-02T13:20:52.500Z"
   },
   {
    "duration": 17,
    "start_time": "2024-03-02T13:20:52.684Z"
   },
   {
    "duration": 34,
    "start_time": "2024-03-02T13:20:52.703Z"
   },
   {
    "duration": 2,
    "start_time": "2024-03-02T13:20:52.739Z"
   },
   {
    "duration": 9,
    "start_time": "2024-03-02T13:20:52.743Z"
   },
   {
    "duration": 35,
    "start_time": "2024-03-02T13:20:52.753Z"
   },
   {
    "duration": 5,
    "start_time": "2024-03-02T13:20:52.790Z"
   },
   {
    "duration": 44,
    "start_time": "2024-03-02T13:20:52.797Z"
   },
   {
    "duration": 38,
    "start_time": "2024-03-02T13:20:52.844Z"
   },
   {
    "duration": 27,
    "start_time": "2024-03-02T13:20:52.884Z"
   },
   {
    "duration": 78,
    "start_time": "2024-03-02T13:20:52.913Z"
   },
   {
    "duration": 103,
    "start_time": "2024-03-02T13:20:52.993Z"
   },
   {
    "duration": 70,
    "start_time": "2024-03-02T13:20:53.098Z"
   },
   {
    "duration": 44,
    "start_time": "2024-03-02T13:20:53.182Z"
   },
   {
    "duration": 12,
    "start_time": "2024-03-02T13:20:53.227Z"
   },
   {
    "duration": 60,
    "start_time": "2024-03-02T13:20:53.241Z"
   },
   {
    "duration": 12,
    "start_time": "2024-03-02T13:20:53.302Z"
   },
   {
    "duration": 11,
    "start_time": "2024-03-02T13:20:53.316Z"
   },
   {
    "duration": 3,
    "start_time": "2024-03-02T13:20:53.328Z"
   },
   {
    "duration": 19,
    "start_time": "2024-03-02T13:20:53.333Z"
   },
   {
    "duration": 38,
    "start_time": "2024-03-02T13:20:53.353Z"
   },
   {
    "duration": 15,
    "start_time": "2024-03-02T13:20:53.393Z"
   },
   {
    "duration": 15,
    "start_time": "2024-03-02T13:20:53.410Z"
   },
   {
    "duration": 17,
    "start_time": "2024-03-02T13:20:53.426Z"
   },
   {
    "duration": 49,
    "start_time": "2024-03-02T13:20:53.445Z"
   },
   {
    "duration": 6,
    "start_time": "2024-03-02T13:20:53.496Z"
   },
   {
    "duration": 13,
    "start_time": "2024-03-02T13:20:53.506Z"
   },
   {
    "duration": 11,
    "start_time": "2024-03-02T13:20:53.520Z"
   },
   {
    "duration": 4,
    "start_time": "2024-03-02T13:20:53.532Z"
   },
   {
    "duration": 49,
    "start_time": "2024-03-02T13:20:53.538Z"
   },
   {
    "duration": 13,
    "start_time": "2024-03-02T13:20:53.589Z"
   },
   {
    "duration": 20,
    "start_time": "2024-03-02T13:20:53.604Z"
   },
   {
    "duration": 13,
    "start_time": "2024-03-02T13:20:53.626Z"
   },
   {
    "duration": 44,
    "start_time": "2024-03-02T13:20:53.641Z"
   },
   {
    "duration": 3,
    "start_time": "2024-03-02T13:20:53.686Z"
   },
   {
    "duration": 28,
    "start_time": "2024-03-02T13:20:53.691Z"
   },
   {
    "duration": 15,
    "start_time": "2024-03-02T13:20:53.720Z"
   },
   {
    "duration": 67,
    "start_time": "2024-03-02T13:21:25.913Z"
   },
   {
    "duration": 423,
    "start_time": "2024-03-02T13:21:35.739Z"
   },
   {
    "duration": 188,
    "start_time": "2024-03-02T13:21:36.164Z"
   },
   {
    "duration": 17,
    "start_time": "2024-03-02T13:21:36.354Z"
   },
   {
    "duration": 38,
    "start_time": "2024-03-02T13:21:36.374Z"
   },
   {
    "duration": 3,
    "start_time": "2024-03-02T13:21:36.413Z"
   },
   {
    "duration": 10,
    "start_time": "2024-03-02T13:21:36.417Z"
   },
   {
    "duration": 20,
    "start_time": "2024-03-02T13:21:36.428Z"
   },
   {
    "duration": 13,
    "start_time": "2024-03-02T13:21:36.449Z"
   },
   {
    "duration": 34,
    "start_time": "2024-03-02T13:21:36.464Z"
   },
   {
    "duration": 21,
    "start_time": "2024-03-02T13:21:36.501Z"
   },
   {
    "duration": 28,
    "start_time": "2024-03-02T13:21:36.523Z"
   },
   {
    "duration": 90,
    "start_time": "2024-03-02T13:21:36.552Z"
   },
   {
    "duration": 91,
    "start_time": "2024-03-02T13:21:36.644Z"
   },
   {
    "duration": 70,
    "start_time": "2024-03-02T13:21:36.736Z"
   },
   {
    "duration": 44,
    "start_time": "2024-03-02T13:21:36.808Z"
   },
   {
    "duration": 28,
    "start_time": "2024-03-02T13:21:36.854Z"
   },
   {
    "duration": 51,
    "start_time": "2024-03-02T13:21:36.884Z"
   },
   {
    "duration": 13,
    "start_time": "2024-03-02T13:21:36.937Z"
   },
   {
    "duration": 12,
    "start_time": "2024-03-02T13:21:36.952Z"
   },
   {
    "duration": 3,
    "start_time": "2024-03-02T13:21:36.984Z"
   },
   {
    "duration": 19,
    "start_time": "2024-03-02T13:21:36.989Z"
   },
   {
    "duration": 16,
    "start_time": "2024-03-02T13:21:37.009Z"
   },
   {
    "duration": 15,
    "start_time": "2024-03-02T13:21:37.027Z"
   },
   {
    "duration": 41,
    "start_time": "2024-03-02T13:21:37.043Z"
   },
   {
    "duration": 18,
    "start_time": "2024-03-02T13:21:37.086Z"
   },
   {
    "duration": 20,
    "start_time": "2024-03-02T13:21:37.105Z"
   },
   {
    "duration": 24,
    "start_time": "2024-03-02T13:21:37.127Z"
   },
   {
    "duration": 24,
    "start_time": "2024-03-02T13:21:37.155Z"
   },
   {
    "duration": 12,
    "start_time": "2024-03-02T13:21:37.181Z"
   },
   {
    "duration": 5,
    "start_time": "2024-03-02T13:21:37.194Z"
   },
   {
    "duration": 25,
    "start_time": "2024-03-02T13:21:37.201Z"
   },
   {
    "duration": 12,
    "start_time": "2024-03-02T13:21:37.228Z"
   },
   {
    "duration": 41,
    "start_time": "2024-03-02T13:21:37.241Z"
   },
   {
    "duration": 12,
    "start_time": "2024-03-02T13:21:37.284Z"
   },
   {
    "duration": 12,
    "start_time": "2024-03-02T13:21:37.298Z"
   },
   {
    "duration": 10,
    "start_time": "2024-03-02T13:21:37.311Z"
   },
   {
    "duration": 4,
    "start_time": "2024-03-02T13:21:37.323Z"
   },
   {
    "duration": 4,
    "start_time": "2024-03-02T13:21:37.329Z"
   },
   {
    "duration": 68,
    "start_time": "2024-03-02T13:26:39.648Z"
   },
   {
    "duration": 453,
    "start_time": "2024-03-02T13:26:46.755Z"
   },
   {
    "duration": 185,
    "start_time": "2024-03-02T13:26:47.210Z"
   },
   {
    "duration": 18,
    "start_time": "2024-03-02T13:26:47.396Z"
   },
   {
    "duration": 33,
    "start_time": "2024-03-02T13:26:47.415Z"
   },
   {
    "duration": 2,
    "start_time": "2024-03-02T13:26:47.451Z"
   },
   {
    "duration": 27,
    "start_time": "2024-03-02T13:26:47.455Z"
   },
   {
    "duration": 11,
    "start_time": "2024-03-02T13:26:47.484Z"
   },
   {
    "duration": 14,
    "start_time": "2024-03-02T13:26:47.497Z"
   },
   {
    "duration": 28,
    "start_time": "2024-03-02T13:26:47.513Z"
   },
   {
    "duration": 27,
    "start_time": "2024-03-02T13:26:47.542Z"
   },
   {
    "duration": 27,
    "start_time": "2024-03-02T13:26:47.582Z"
   },
   {
    "duration": 82,
    "start_time": "2024-03-02T13:26:47.611Z"
   },
   {
    "duration": 87,
    "start_time": "2024-03-02T13:26:47.695Z"
   },
   {
    "duration": 61,
    "start_time": "2024-03-02T13:26:47.785Z"
   },
   {
    "duration": 68,
    "start_time": "2024-03-02T13:26:47.848Z"
   },
   {
    "duration": 14,
    "start_time": "2024-03-02T13:26:47.918Z"
   },
   {
    "duration": 63,
    "start_time": "2024-03-02T13:26:47.933Z"
   },
   {
    "duration": 12,
    "start_time": "2024-03-02T13:26:47.997Z"
   },
   {
    "duration": 13,
    "start_time": "2024-03-02T13:26:48.010Z"
   },
   {
    "duration": 12,
    "start_time": "2024-03-02T13:26:48.025Z"
   },
   {
    "duration": 30,
    "start_time": "2024-03-02T13:26:48.039Z"
   },
   {
    "duration": 18,
    "start_time": "2024-03-02T13:26:48.070Z"
   },
   {
    "duration": 18,
    "start_time": "2024-03-02T13:26:48.089Z"
   },
   {
    "duration": 20,
    "start_time": "2024-03-02T13:26:48.109Z"
   },
   {
    "duration": 26,
    "start_time": "2024-03-02T13:26:48.131Z"
   },
   {
    "duration": 30,
    "start_time": "2024-03-02T13:26:48.158Z"
   },
   {
    "duration": 6,
    "start_time": "2024-03-02T13:26:48.190Z"
   },
   {
    "duration": 16,
    "start_time": "2024-03-02T13:26:48.198Z"
   },
   {
    "duration": 13,
    "start_time": "2024-03-02T13:26:48.216Z"
   },
   {
    "duration": 15,
    "start_time": "2024-03-02T13:26:48.231Z"
   },
   {
    "duration": 31,
    "start_time": "2024-03-02T13:26:48.248Z"
   },
   {
    "duration": 19,
    "start_time": "2024-03-02T13:26:48.280Z"
   },
   {
    "duration": 31,
    "start_time": "2024-03-02T13:26:48.302Z"
   },
   {
    "duration": 15,
    "start_time": "2024-03-02T13:26:48.334Z"
   },
   {
    "duration": 22,
    "start_time": "2024-03-02T13:26:48.351Z"
   },
   {
    "duration": 8,
    "start_time": "2024-03-02T13:26:48.381Z"
   },
   {
    "duration": 25,
    "start_time": "2024-03-02T13:26:48.390Z"
   },
   {
    "duration": 7,
    "start_time": "2024-03-02T13:26:48.417Z"
   },
   {
    "duration": 9,
    "start_time": "2024-03-02T13:26:57.154Z"
   },
   {
    "duration": 4,
    "start_time": "2024-03-02T13:27:32.405Z"
   },
   {
    "duration": 7,
    "start_time": "2024-03-02T13:29:04.298Z"
   },
   {
    "duration": 5,
    "start_time": "2024-03-02T13:29:32.171Z"
   }
  ],
  "celltoolbar": "Отсутствует",
  "colab": {
   "collapsed_sections": [
    "E0vqbgi9ay0H",
    "VUC88oWjTJw2"
   ],
   "provenance": []
  },
  "kernelspec": {
   "display_name": "Python 3 (ipykernel)",
   "language": "python",
   "name": "python3"
  },
  "language_info": {
   "codemirror_mode": {
    "name": "ipython",
    "version": 3
   },
   "file_extension": ".py",
   "mimetype": "text/x-python",
   "name": "python",
   "nbconvert_exporter": "python",
   "pygments_lexer": "ipython3",
   "version": "3.9.5"
  },
  "toc": {
   "base_numbering": 1,
   "nav_menu": {
    "height": "215px",
    "width": "403px"
   },
   "number_sections": true,
   "sideBar": true,
   "skip_h1_title": true,
   "title_cell": "Table of Contents",
   "title_sidebar": "Contents",
   "toc_cell": false,
   "toc_position": {
    "height": "calc(100% - 180px)",
    "left": "10px",
    "top": "150px",
    "width": "285.825px"
   },
   "toc_section_display": true,
   "toc_window_display": false
  }
 },
 "nbformat": 4,
 "nbformat_minor": 1
}
